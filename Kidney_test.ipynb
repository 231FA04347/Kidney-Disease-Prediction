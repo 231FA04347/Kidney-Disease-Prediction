{
  "nbformat": 4,
  "nbformat_minor": 0,
  "metadata": {
    "colab": {
      "provenance": [],
      "authorship_tag": "ABX9TyPzuG107TTIFnxx3LPAp/SF",
      "include_colab_link": true
    },
    "kernelspec": {
      "name": "python3",
      "display_name": "Python 3"
    },
    "language_info": {
      "name": "python"
    }
  },
  "cells": [
    {
      "cell_type": "markdown",
      "metadata": {
        "id": "view-in-github",
        "colab_type": "text"
      },
      "source": [
        "<a href=\"https://colab.research.google.com/github/231FA04347/Kidney-Disease-Prediction/blob/main/Kidney_test.ipynb\" target=\"_parent\"><img src=\"https://colab.research.google.com/assets/colab-badge.svg\" alt=\"Open In Colab\"/></a>"
      ]
    },
    {
      "cell_type": "code",
      "execution_count": 2,
      "metadata": {
        "id": "2YlBbFDC_NDn"
      },
      "outputs": [],
      "source": [
        "labels = ['id', 'age', 'bp', 'sg', 'al', 'su', 'pc', 'pcc', 'ba', 'bgr', 'bu',\n",
        "       'sc', 'sod', 'pot', 'hemo', 'pcv', 'wc', 'htn', 'dm']"
      ]
    },
    {
      "cell_type": "code",
      "source": [
        "input_data = []\n",
        "for label in labels:\n",
        "    input_data.append(float(input(label + ': ')))\n",
        "input_data"
      ],
      "metadata": {
        "colab": {
          "base_uri": "https://localhost:8080/"
        },
        "id": "0ECyTGJjAe4_",
        "outputId": "24307a1f-bc59-4b44-a5ec-884750754931"
      },
      "execution_count": 4,
      "outputs": [
        {
          "name": "stdout",
          "output_type": "stream",
          "text": [
            "id: 25\n",
            "age: 25\n",
            "bp: 1\n",
            "sg: 0\n",
            "al: 1\n",
            "su: 1\n",
            "pc: 1\n",
            "pcc: 1\n",
            "ba: 1\n",
            "bgr: 1\n",
            "bu: 1\n",
            "sc: 1\n",
            "sod: 1\n",
            "pot: 1\n",
            "hemo: 1\n",
            "pcv: 1\n",
            "wc: 1\n",
            "htn: 1\n",
            "dm: 1\n"
          ]
        },
        {
          "output_type": "execute_result",
          "data": {
            "text/plain": [
              "[25.0,\n",
              " 25.0,\n",
              " 1.0,\n",
              " 0.0,\n",
              " 1.0,\n",
              " 1.0,\n",
              " 1.0,\n",
              " 1.0,\n",
              " 1.0,\n",
              " 1.0,\n",
              " 1.0,\n",
              " 1.0,\n",
              " 1.0,\n",
              " 1.0,\n",
              " 1.0,\n",
              " 1.0,\n",
              " 1.0,\n",
              " 1.0,\n",
              " 1.0]"
            ]
          },
          "metadata": {},
          "execution_count": 4
        }
      ]
    },
    {
      "cell_type": "code",
      "source": [
        "from keras.models import load_model\n",
        "import numpy as np\n",
        "\n",
        "model = load_model('/content/Kidney.h5')\n",
        "\n",
        "in_array = np.array([input_data])\n",
        "result = model.predict(in_array)\n",
        "\n",
        "\n",
        "if result > 0.5:\n",
        "  print('You will get kidney disease')\n",
        "else:\n",
        "  print('you are Safe')"
      ],
      "metadata": {
        "colab": {
          "base_uri": "https://localhost:8080/"
        },
        "id": "Ij17Oa6tA2V9",
        "outputId": "0ec83d59-b276-4c86-f6cf-a49bfe805cda"
      },
      "execution_count": 6,
      "outputs": [
        {
          "output_type": "stream",
          "name": "stderr",
          "text": [
            "WARNING:absl:Compiled the loaded model, but the compiled metrics have yet to be built. `model.compile_metrics` will be empty until you train or evaluate the model.\n"
          ]
        },
        {
          "output_type": "stream",
          "name": "stdout",
          "text": [
            "\u001b[1m1/1\u001b[0m \u001b[32m━━━━━━━━━━━━━━━━━━━━\u001b[0m\u001b[37m\u001b[0m \u001b[1m0s\u001b[0m 127ms/step\n",
            "You will get kidney disease\n"
          ]
        }
      ]
    },
    {
      "cell_type": "code",
      "source": [],
      "metadata": {
        "id": "6IpmkkyPBMRc"
      },
      "execution_count": null,
      "outputs": []
    }
  ]
}